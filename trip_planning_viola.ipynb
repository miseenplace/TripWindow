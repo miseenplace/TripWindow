import voila

@voila.ui.button(label="Get Shortest Travel Times")
def get_shortest_travel_times():
    origin = input("Enter the origin station: ")
    destination = input("Enter the destination station: ")
    shortest_travel_times = get_shortest_travel_times(origin, destination)
    print(shortest_travel_times)

if __name__ == "__main__":
    voila.run()
